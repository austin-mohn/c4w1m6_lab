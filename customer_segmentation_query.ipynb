{
 "cells": [
  {
   "cell_type": "markdown",
   "metadata": {},
   "source": [
    "Scenario: The product team needs to segment customers based on their purchasing behavior for a new feature rollout.\n",
    "\n",
    "Database Schema:\n",
    "\n",
    "user_activity: \n",
    "-user_id\n",
    "-last_login_date\n",
    "-feature_usage_count\n",
    "-account_type\n",
    "\n",
    "transactions: \n",
    "-transaction_id\n",
    "-user_id\n",
    "-transaction_date\n",
    "-amount\n",
    "-platform\n",
    "\n",
    "user_preferences: \n",
    "-user_id\n",
    "-communication_preference\n",
    "-interface_theme\n",
    "-notification_settings\n"
   ]
  },
  {
   "cell_type": "markdown",
   "metadata": {},
   "source": [
    "Prompt: \n",
    "\n",
    "I'm working on a new analysis to understand customers' purchasing behavior. Here's the hypothetical database schema I'm working with:\n",
    "\n",
    "1. user_activity \n",
    "user_id\n",
    "last_login_date\n",
    "feature_usage_count\n",
    "account_type\n",
    "\n",
    "2. transactions\n",
    "transaction_id\n",
    "user_id\n",
    "transaction_date\n",
    "amount\n",
    "platform\n",
    "\n",
    "3. user_preferences\n",
    "user_id\n",
    "communication_preference\n",
    "interface_theme\n",
    "notification_settings\n",
    "\n",
    "I first need to create dataframes for each of these three databases using random values. Create 30 rows for each. The dataframes should be titled \"user_activity\", \"transactions\", and \"user_preferences\". Dates should be formatted MM/DD/YYYY (no timestamp included). Communication_preference values should be call, text, email, or pigeon. "
   ]
  },
  {
   "cell_type": "code",
   "execution_count": 31,
   "metadata": {},
   "outputs": [
    {
     "name": "stdout",
     "output_type": "stream",
     "text": [
      "user_activity:\n",
      "  user_id last_login_date  feature_usage_count account_type\n",
      "0  user_1      10/16/2024                   51   enterprise\n",
      "1  user_2      04/25/2023                   92   enterprise\n",
      "2  user_3      01/26/2023                   14   enterprise\n",
      "3  user_4      10/09/2023                   71      premium\n",
      "4  user_5      09/08/2023                   60   enterprise \n",
      "\n",
      "transactions:\n",
      "  transaction_id  user_id transaction_date  amount platform\n",
      "0          txn_1  user_12       03/11/2024  289.52   mobile\n",
      "1          txn_2  user_29       06/07/2023  265.21   tablet\n",
      "2          txn_3   user_8       11/11/2023  480.97   tablet\n",
      "3          txn_4  user_15       08/06/2024  423.82      web\n",
      "4          txn_5   user_3       05/14/2024  376.19   tablet \n",
      "\n",
      "user_preferences:\n",
      "  user_id communication_preference interface_theme notification_settings\n",
      "0  user_1                    email            dark         mentions_only\n",
      "1  user_2                    email            auto         mentions_only\n",
      "2  user_3                     call           light                  none\n",
      "3  user_4                    email            auto         mentions_only\n",
      "4  user_5                    email            dark                  none\n"
     ]
    }
   ],
   "source": [
    "#Generated code\n",
    "\n",
    "import pandas as pd\n",
    "import numpy as np\n",
    "from datetime import datetime, timedelta\n",
    "import random\n",
    "\n",
    "# Set seed for reproducibility\n",
    "np.random.seed(42)\n",
    "random.seed(42)\n",
    "\n",
    "# Helper function to generate random dates\n",
    "def random_dates(start, end, n):\n",
    "    return [(start + timedelta(days=random.randint(0, (end - start).days))).strftime(\"%m/%d/%Y\") for _ in range(n)]\n",
    "\n",
    "# Generate user_ids\n",
    "user_ids = [f\"user_{i+1}\" for i in range(30)]\n",
    "\n",
    "# --------------------------\n",
    "# 1. user_activity DataFrame\n",
    "# --------------------------\n",
    "user_activity = pd.DataFrame({\n",
    "    'user_id': user_ids,\n",
    "    'last_login_date': random_dates(datetime(2023, 1, 1), datetime(2024, 12, 31), 30),\n",
    "    'feature_usage_count': np.random.randint(0, 101, size=30),\n",
    "    'account_type': np.random.choice(['free', 'premium', 'enterprise'], size=30)\n",
    "})\n",
    "\n",
    "# --------------------------\n",
    "# 2. transactions DataFrame\n",
    "# --------------------------\n",
    "transaction_ids = [f\"txn_{i+1}\" for i in range(30)]\n",
    "\n",
    "transactions = pd.DataFrame({\n",
    "    'transaction_id': transaction_ids,\n",
    "    'user_id': np.random.choice(user_ids, size=30),\n",
    "    'transaction_date': random_dates(datetime(2023, 6, 1), datetime(2025, 1, 1), 30),\n",
    "    'amount': np.round(np.random.uniform(10.0, 500.0, size=30), 2),\n",
    "    'platform': np.random.choice(['web', 'mobile', 'tablet'], size=30)\n",
    "})\n",
    "\n",
    "# --------------------------\n",
    "# 3. user_preferences DataFrame\n",
    "# --------------------------\n",
    "user_preferences = pd.DataFrame({\n",
    "    'user_id': user_ids,\n",
    "    'communication_preference': np.random.choice(['call', 'text', 'email', 'pigeon'], size=30),\n",
    "    'interface_theme': np.random.choice(['light', 'dark', 'auto'], size=30),\n",
    "    'notification_settings': np.random.choice(['all', 'mentions_only', 'none'], size=30)\n",
    "})\n",
    "\n",
    "# Display first few rows for verification\n",
    "print(\"user_activity:\")\n",
    "print(user_activity.head(), \"\\n\")\n",
    "\n",
    "print(\"transactions:\")\n",
    "print(transactions.head(), \"\\n\")\n",
    "\n",
    "print(\"user_preferences:\")\n",
    "print(user_preferences.head())"
   ]
  },
  {
   "cell_type": "markdown",
   "metadata": {},
   "source": [
    "1. Create a SQL query to identify active users (logged in last 30 days)\n",
    "Prompt: \n",
    "\n",
    "Dataframes look great. Let's start the analysis. I need to understand which users have logged in in the last 30 days and what percentage of our users are thus considered \"active\". Use a SQL query to select the user_id and last_login_date from user_activity. Run the query and then produce a sum of those users and divide it by the len(user_id)."
   ]
  },
  {
   "cell_type": "code",
   "execution_count": 32,
   "metadata": {},
   "outputs": [
    {
     "name": "stdout",
     "output_type": "stream",
     "text": [
      "Active Users (Last 30 Days):\n",
      "Empty DataFrame\n",
      "Columns: [user_id, last_login_date]\n",
      "Index: []\n",
      "\n",
      "Number of Active Users: 0\n",
      "Total Users: 30\n",
      "Percentage Active: 0.00%\n"
     ]
    }
   ],
   "source": [
    "import pandasql as ps\n",
    "from datetime import datetime\n",
    "\n",
    "# Today's date\n",
    "today = datetime.today()\n",
    "cutoff_date = today - timedelta(days=30)\n",
    "cutoff_str = cutoff_date.strftime(\"%m/%d/%Y\")\n",
    "\n",
    "# SQL query to select users who logged in within the last 30 days\n",
    "query = f\"\"\"\n",
    "SELECT user_id, last_login_date\n",
    "FROM user_activity\n",
    "WHERE DATE(substr(last_login_date, 7, 4) || '-' || substr(last_login_date, 1, 2) || '-' || substr(last_login_date, 4, 2)) >= DATE('{cutoff_str}')\n",
    "\"\"\"\n",
    "\n",
    "# Run SQL query\n",
    "active_users_df = ps.sqldf(query, locals())\n",
    "\n",
    "# Calculate percentage of active users\n",
    "num_active_users = len(active_users_df)\n",
    "total_users = len(user_activity['user_id'])\n",
    "percent_active = (num_active_users / total_users) * 100\n",
    "\n",
    "# Display results\n",
    "print(\"Active Users (Last 30 Days):\")\n",
    "print(active_users_df)\n",
    "print(f\"\\nNumber of Active Users: {num_active_users}\")\n",
    "print(f\"Total Users: {total_users}\")\n",
    "print(f\"Percentage Active: {percent_active:.2f}%\")"
   ]
  },
  {
   "cell_type": "code",
   "execution_count": 33,
   "metadata": {},
   "outputs": [
    {
     "name": "stdout",
     "output_type": "stream",
     "text": [
      "    user_id last_login_date  feature_usage_count account_type\n",
      "0    user_1      10/16/2024                   51   enterprise\n",
      "1    user_2      04/25/2023                   92   enterprise\n",
      "2    user_3      01/26/2023                   14   enterprise\n",
      "3    user_4      10/09/2023                   71      premium\n",
      "4    user_5      09/08/2023                   60   enterprise\n",
      "5    user_6      08/17/2023                   20      premium\n",
      "6    user_7      05/23/2023                   82      premium\n",
      "7    user_8      04/15/2023                   86   enterprise\n",
      "8    user_9      11/23/2024                   74      premium\n",
      "9   user_10      07/12/2024                   74   enterprise\n",
      "10  user_11      03/31/2023                   87   enterprise\n",
      "11  user_12      08/27/2024                   99         free\n",
      "12  user_13      03/08/2024                   23   enterprise\n",
      "13  user_14      02/02/2023                    2         free\n",
      "14  user_15      01/31/2023                   21   enterprise\n",
      "15  user_16      04/06/2023                   52   enterprise\n",
      "16  user_17      08/12/2023                    1         free\n",
      "17  user_18      08/27/2023                   87         free\n",
      "18  user_19      06/01/2024                   29   enterprise\n",
      "19  user_20      09/08/2024                   37      premium\n",
      "20  user_21      01/28/2023                    1         free\n",
      "21  user_22      07/28/2024                   63      premium\n",
      "22  user_23      07/23/2023                   59      premium\n",
      "23  user_24      10/27/2024                   20      premium\n",
      "24  user_25      12/19/2024                   32         free\n",
      "25  user_26      07/12/2024                   75      premium\n",
      "26  user_27      03/05/2024                   57         free\n",
      "27  user_28      08/14/2023                   21      premium\n",
      "28  user_29      04/04/2024                   88   enterprise\n",
      "29  user_30      08/26/2024                   48   enterprise\n"
     ]
    }
   ],
   "source": [
    "print(user_activity)"
   ]
  },
  {
   "cell_type": "markdown",
   "metadata": {},
   "source": [
    "Follow-Up Prompt:\n",
    "\n",
    "The SQL query looks good, however, we don't have any users that have logged in in the last 30 days. Returning to the dataframe creation, let's restrict our available last login options to only dates between 1/1/2025 and 4/10/2025. Also, increase the number of rows to 3,000."
   ]
  },
  {
   "cell_type": "code",
   "execution_count": 34,
   "metadata": {},
   "outputs": [
    {
     "name": "stdout",
     "output_type": "stream",
     "text": [
      "Active Users (Last 30 Days):\n",
      "Empty DataFrame\n",
      "Columns: [user_id, last_login_date]\n",
      "Index: []\n",
      "\n",
      "Number of Active Users: 0\n",
      "Total Users: 3000\n",
      "Percentage Active: 0.00%\n"
     ]
    }
   ],
   "source": [
    "#Generated code\n",
    "\n",
    "import pandas as pd\n",
    "import numpy as np\n",
    "from datetime import datetime, timedelta\n",
    "import random\n",
    "import pandasql as ps\n",
    "\n",
    "# Set seeds\n",
    "np.random.seed(42)\n",
    "random.seed(42)\n",
    "\n",
    "# Helper function for random date generation\n",
    "def random_dates(start, end, n):\n",
    "    return [(start + timedelta(days=random.randint(0, (end - start).days))).strftime(\"%m/%d/%Y\") for _ in range(n)]\n",
    "\n",
    "# Generate user_ids\n",
    "user_ids = [f\"user_{i+1}\" for i in range(3000)]\n",
    "\n",
    "# --------------------------\n",
    "# 1. user_activity DataFrame\n",
    "# --------------------------\n",
    "recent_logins = random_dates(datetime(2025, 1, 1), datetime(2025, 4, 10), 3000)\n",
    "\n",
    "user_activity = pd.DataFrame({\n",
    "    'user_id': user_ids,\n",
    "    'last_login_date': recent_logins,\n",
    "    'feature_usage_count': np.random.randint(0, 101, size=3000),\n",
    "    'account_type': np.random.choice(['free', 'premium', 'enterprise'], size=3000)\n",
    "})\n",
    "\n",
    "# --------------------------\n",
    "# 2. transactions DataFrame\n",
    "# --------------------------\n",
    "transaction_ids = [f\"txn_{i+1}\" for i in range(3000)]\n",
    "\n",
    "transactions = pd.DataFrame({\n",
    "    'transaction_id': transaction_ids,\n",
    "    'user_id': np.random.choice(user_ids, size=3000),\n",
    "    'transaction_date': random_dates(datetime(2025, 1, 1), datetime(2025, 4, 10), 3000),\n",
    "    'amount': np.round(np.random.uniform(10.0, 500.0, size=3000), 2),\n",
    "    'platform': np.random.choice(['web', 'mobile', 'tablet'], size=3000)\n",
    "})\n",
    "\n",
    "# --------------------------\n",
    "# 3. user_preferences DataFrame\n",
    "# --------------------------\n",
    "user_preferences = pd.DataFrame({\n",
    "    'user_id': user_ids,\n",
    "    'communication_preference': np.random.choice(['call', 'text', 'email', 'pigeon'], size=3000),\n",
    "    'interface_theme': np.random.choice(['light', 'dark', 'auto'], size=3000),\n",
    "    'notification_settings': np.random.choice(['all', 'mentions_only', 'none'], size=3000)\n",
    "})\n",
    "\n",
    "# --------------------------\n",
    "# Active User Analysis\n",
    "# --------------------------\n",
    "# Today's date\n",
    "today = datetime.today()\n",
    "cutoff_date = today - timedelta(days=30)\n",
    "cutoff_str = cutoff_date.strftime(\"%m/%d/%Y\")\n",
    "\n",
    "# SQL query to select users who logged in within the last 30 days\n",
    "query = f\"\"\"\n",
    "SELECT user_id, last_login_date\n",
    "FROM user_activity\n",
    "WHERE DATE(substr(last_login_date, 7, 4) || '-' || substr(last_login_date, 1, 2) || '-' || substr(last_login_date, 4, 2)) >= DATE('{cutoff_str}')\n",
    "\"\"\"\n",
    "\n",
    "# Run SQL query\n",
    "active_users_df = ps.sqldf(query, locals())\n",
    "\n",
    "# Calculate percentage of active users\n",
    "num_active_users = len(active_users_df)\n",
    "total_users = len(user_activity['user_id'])\n",
    "percent_active = (num_active_users / total_users) * 100\n",
    "\n",
    "# Display results\n",
    "print(\"Active Users (Last 30 Days):\")\n",
    "print(active_users_df)\n",
    "print(f\"\\nNumber of Active Users: {num_active_users}\")\n",
    "print(f\"Total Users: {total_users}\")\n",
    "print(f\"Percentage Active: {percent_active:.2f}%\")"
   ]
  },
  {
   "cell_type": "markdown",
   "metadata": {},
   "source": [
    "Follow-Up Prompt:\n",
    "\n",
    "Here's the output I received when running this code: \n",
    "\n",
    "Active Users (Last 30 Days):\n",
    "Empty DataFrame\n",
    "Columns: [user_id, last_login_date]\n",
    "Index: []\n",
    "\n",
    "Number of Active Users: 0\n",
    "Total Users: 30\n",
    "Percentage Active: 0.00%\n",
    "\n",
    "According to this, there are no active users in the last 30 days. However, when I print the user_activty dataframe, I see that there are users that would fall within this range. "
   ]
  },
  {
   "cell_type": "markdown",
   "metadata": {},
   "source": [
    "Generated response:\n",
    "\n",
    "Thanks for flagging that — you're absolutely right to question this. The issue is in the SQL date comparison logic.\n",
    "\n",
    "The last_login_date in your DataFrame is in MM/DD/YYYY format (as a string), and we're using a substring-based method to convert it to YYYY-MM-DD. That process works in theory, but if the string isn't perfectly consistent, it may silently fail or not compare correctly in SQLite.\n",
    "\n",
    "Let’s fix it properly by doing the date filtering directly in Pandas, which avoids the format conversion mess altogether and is more reliable."
   ]
  },
  {
   "cell_type": "code",
   "execution_count": 35,
   "metadata": {},
   "outputs": [
    {
     "name": "stdout",
     "output_type": "stream",
     "text": [
      "Active Users (Last 30 Days):\n",
      "        user_id last_login_date\n",
      "0        user_1      03/23/2025\n",
      "3        user_4      04/05/2025\n",
      "8        user_9      04/05/2025\n",
      "10      user_11      03/28/2025\n",
      "11      user_12      04/05/2025\n",
      "...         ...             ...\n",
      "2990  user_2991      04/08/2025\n",
      "2992  user_2993      03/29/2025\n",
      "2993  user_2994      04/07/2025\n",
      "2994  user_2995      03/18/2025\n",
      "2999  user_3000      04/01/2025\n",
      "\n",
      "[934 rows x 2 columns]\n",
      "\n",
      "Number of Active Users: 934\n",
      "Total Users: 3000\n",
      "Percentage Active: 31.13%\n"
     ]
    }
   ],
   "source": [
    "#Generated code\n",
    "\n",
    "from datetime import datetime, timedelta\n",
    "\n",
    "# Convert 'last_login_date' to datetime\n",
    "user_activity['last_login_date_dt'] = pd.to_datetime(user_activity['last_login_date'], format=\"%m/%d/%Y\")\n",
    "\n",
    "# Define cutoff date\n",
    "today = datetime.today()\n",
    "cutoff_date = today - timedelta(days=30)\n",
    "\n",
    "# Filter for active users\n",
    "active_users_df = user_activity[user_activity['last_login_date_dt'] >= cutoff_date][['user_id', 'last_login_date']]\n",
    "\n",
    "# Calculate percentage active\n",
    "num_active_users = len(active_users_df)\n",
    "total_users = len(user_activity['user_id'])\n",
    "percent_active = (num_active_users / total_users) * 100\n",
    "\n",
    "# Display results\n",
    "print(\"Active Users (Last 30 Days):\")\n",
    "print(active_users_df)\n",
    "print(f\"\\nNumber of Active Users: {num_active_users}\")\n",
    "print(f\"Total Users: {total_users}\")\n",
    "print(f\"Percentage Active: {percent_active:.2f}%\")"
   ]
  },
  {
   "cell_type": "markdown",
   "metadata": {},
   "source": [
    "2. Filter by high-value customers (top 20% by spending)\n",
    "\n",
    "Prompt: \n",
    "\n",
    "That worked! Now let's assess high-value customers. Using a SQL query, select all values from the transactions dataframe for users that fall in the top 20% of transaction amounts."
   ]
  },
  {
   "cell_type": "markdown",
   "metadata": {},
   "source": [
    "Generated response:\n",
    "\n",
    "Awesome! Now to assess high-value customers using SQL, we want to identify users whose transaction amounts are in the top 20%. Since SQLite (used by pandasql) doesn’t support window functions like NTILE() or PERCENTILE_CONT(), we’ll use a workaround:\n",
    "\n",
    "Calculate the 80th percentile of amount using Pandas.\n",
    "\n",
    "Plug that value into a SQL query to select all transactions at or above that threshold."
   ]
  },
  {
   "cell_type": "code",
   "execution_count": 36,
   "metadata": {},
   "outputs": [
    {
     "name": "stdout",
     "output_type": "stream",
     "text": [
      "High-Value Customer Transactions (Top 20% by Amount):\n",
      "    transaction_id    user_id transaction_date  amount platform\n",
      "0            txn_2  user_2054       01/10/2025  499.01   tablet\n",
      "1            txn_3   user_288       03/14/2025  430.49      web\n",
      "2            txn_5  user_1448       01/08/2025  490.33      web\n",
      "3           txn_11  user_1236       01/20/2025  450.52   mobile\n",
      "4           txn_15   user_447       02/26/2025  423.65   mobile\n",
      "..             ...        ...              ...     ...      ...\n",
      "595       txn_2975  user_1154       03/24/2025  432.43   mobile\n",
      "596       txn_2976  user_1317       03/07/2025  421.20   mobile\n",
      "597       txn_2982  user_1527       02/02/2025  425.23   mobile\n",
      "598       txn_2995  user_1866       02/07/2025  482.55      web\n",
      "599       txn_2998  user_2112       02/02/2025  406.96   tablet\n",
      "\n",
      "[600 rows x 5 columns]\n"
     ]
    }
   ],
   "source": [
    "#Generated code\n",
    "\n",
    "import pandasql as ps\n",
    "\n",
    "# Step 1: Calculate the 80th percentile value of transaction amounts\n",
    "threshold = transactions['amount'].quantile(0.80)\n",
    "\n",
    "# Step 2: SQL query to select high-value transactions\n",
    "query = f\"\"\"\n",
    "SELECT *\n",
    "FROM transactions\n",
    "WHERE amount >= {threshold}\n",
    "\"\"\"\n",
    "\n",
    "# Step 3: Run the query\n",
    "high_value_transactions = ps.sqldf(query, locals())\n",
    "\n",
    "# Step 4: Display results\n",
    "print(\"High-Value Customer Transactions (Top 20% by Amount):\")\n",
    "print(high_value_transactions)"
   ]
  },
  {
   "cell_type": "markdown",
   "metadata": {},
   "source": [
    "Let's perform the same query but on active_users_df. Join the two lists on user_id. "
   ]
  },
  {
   "cell_type": "code",
   "execution_count": 37,
   "metadata": {},
   "outputs": [
    {
     "name": "stdout",
     "output_type": "stream",
     "text": [
      "High-Value Transactions Among Active Users (Top 20% by Amount):\n",
      "    transaction_id    user_id transaction_date  amount platform\n",
      "0            txn_5  user_1448       01/08/2025  490.33      web\n",
      "1           txn_36  user_1417       02/09/2025  491.60   mobile\n",
      "2           txn_73  user_1547       03/26/2025  409.36      web\n",
      "3           txn_78  user_2551       01/16/2025  459.60      web\n",
      "4           txn_92  user_1554       04/03/2025  403.10      web\n",
      "..             ...        ...              ...     ...      ...\n",
      "176       txn_2916   user_446       01/09/2025  419.43   mobile\n",
      "177       txn_2918  user_2118       04/06/2025  413.85   tablet\n",
      "178       txn_2947  user_1058       03/23/2025  425.91   mobile\n",
      "179       txn_2960  user_1396       01/01/2025  437.21   mobile\n",
      "180       txn_2971  user_2077       04/03/2025  487.59   tablet\n",
      "\n",
      "[181 rows x 5 columns]\n"
     ]
    }
   ],
   "source": [
    "#Generated code\n",
    "\n",
    "# Step 1: Calculate the 80th percentile threshold for active users' transactions\n",
    "# First, filter transactions to include only active users\n",
    "active_user_ids = active_users_df['user_id'].tolist()\n",
    "active_user_transactions = transactions[transactions['user_id'].isin(active_user_ids)]\n",
    "\n",
    "# Calculate 80th percentile of transaction amounts among active users\n",
    "active_threshold = active_user_transactions['amount'].quantile(0.80)\n",
    "\n",
    "# Step 2: Prepare SQL-compatible list of active user IDs\n",
    "active_ids_sql = tuple(active_user_ids) if len(active_user_ids) > 1 else f\"('{active_user_ids[0]}')\"\n",
    "\n",
    "# Step 3: SQL query to select high-value transactions among active users\n",
    "query = f\"\"\"\n",
    "SELECT *\n",
    "FROM transactions\n",
    "WHERE user_id IN {active_ids_sql}\n",
    "AND amount >= {active_threshold}\n",
    "\"\"\"\n",
    "\n",
    "# Step 4: Run the query\n",
    "high_value_active_user_txns = ps.sqldf(query, locals())\n",
    "\n",
    "# Step 5: Display results\n",
    "print(\"High-Value Transactions Among Active Users (Top 20% by Amount):\")\n",
    "print(high_value_active_user_txns)"
   ]
  },
  {
   "cell_type": "markdown",
   "metadata": {},
   "source": [
    "Follow-Up Prompt:\n",
    "\n",
    "I'm not familiar with the tuple function. Instead of the aforementioned steps 1 and 2, use SQL to left join \"transactions\" onto \"active_users_df\" along the \"user_id\" field. Then run the SQL query\n"
   ]
  },
  {
   "cell_type": "code",
   "execution_count": 38,
   "metadata": {},
   "outputs": [
    {
     "name": "stdout",
     "output_type": "stream",
     "text": [
      "High-Value Transactions Among Active Users (Top 20% by Amount):\n",
      "    transaction_id    user_id transaction_date  amount platform\n",
      "0          txn_874    user_28       01/06/2025  406.62      web\n",
      "1         txn_1993    user_62       01/04/2025  445.53   tablet\n",
      "2         txn_2564    user_67       03/05/2025  462.24      web\n",
      "3         txn_2383    user_82       01/13/2025  452.77   tablet\n",
      "4          txn_131    user_90       01/28/2025  439.88   mobile\n",
      "..             ...        ...              ...     ...      ...\n",
      "176        txn_313  user_2965       01/05/2025  495.47      web\n",
      "177        txn_726  user_2985       01/23/2025  437.92   mobile\n",
      "178        txn_875  user_2985       04/08/2025  402.07   tablet\n",
      "179        txn_335  user_2989       03/20/2025  403.89      web\n",
      "180        txn_416  user_2995       03/26/2025  453.95   tablet\n",
      "\n",
      "[181 rows x 5 columns]\n"
     ]
    }
   ],
   "source": [
    "# Step 1: LEFT JOIN active_users_df with transactions\n",
    "join_query = \"\"\"\n",
    "SELECT t.*\n",
    "FROM transactions t\n",
    "LEFT JOIN active_users_df a\n",
    "ON t.user_id = a.user_id\n",
    "WHERE a.user_id IS NOT NULL\n",
    "\"\"\"\n",
    "\n",
    "# Execute join query\n",
    "active_user_transactions = ps.sqldf(join_query, locals())\n",
    "\n",
    "# Step 2: Calculate 80th percentile of transaction amounts (from joined table)\n",
    "threshold = active_user_transactions['amount'].quantile(0.80)\n",
    "\n",
    "# Step 3: Filter using SQL to get high-value transactions\n",
    "filter_query = f\"\"\"\n",
    "SELECT *\n",
    "FROM active_user_transactions\n",
    "WHERE amount >= {threshold}\n",
    "\"\"\"\n",
    "\n",
    "# Execute final query\n",
    "high_value_active_user_txns = ps.sqldf(filter_query, locals())\n",
    "\n",
    "# Step 4: Display results\n",
    "print(\"High-Value Transactions Among Active Users (Top 20% by Amount):\")\n",
    "print(high_value_active_user_txns)"
   ]
  },
  {
   "cell_type": "markdown",
   "metadata": {},
   "source": [
    "3. Idendifty user preference trends for the identified customers.\n",
    "\n",
    "Prompt: \n",
    "\n",
    "Fantastic, from this last dataframe (high_value_active_user_txns), write a SQL query to left join the user_preferences along user_id. "
   ]
  },
  {
   "cell_type": "code",
   "execution_count": null,
   "metadata": {},
   "outputs": [
    {
     "name": "stdout",
     "output_type": "stream",
     "text": [
      "High-Value Active Users with Preferences:\n",
      "    transaction_id    user_id transaction_date  amount platform  \\\n",
      "0          txn_874    user_28       01/06/2025  406.62      web   \n",
      "1         txn_1993    user_62       01/04/2025  445.53   tablet   \n",
      "2         txn_2564    user_67       03/05/2025  462.24      web   \n",
      "3         txn_2383    user_82       01/13/2025  452.77   tablet   \n",
      "4          txn_131    user_90       01/28/2025  439.88   mobile   \n",
      "..             ...        ...              ...     ...      ...   \n",
      "176        txn_313  user_2965       01/05/2025  495.47      web   \n",
      "177        txn_726  user_2985       01/23/2025  437.92   mobile   \n",
      "178        txn_875  user_2985       04/08/2025  402.07   tablet   \n",
      "179        txn_335  user_2989       03/20/2025  403.89      web   \n",
      "180        txn_416  user_2995       03/26/2025  453.95   tablet   \n",
      "\n",
      "    communication_preference interface_theme notification_settings  \n",
      "0                       call            auto         mentions_only  \n",
      "1                       text            dark                  none  \n",
      "2                      email            auto                  none  \n",
      "3                       text            dark                   all  \n",
      "4                      email           light                   all  \n",
      "..                       ...             ...                   ...  \n",
      "176                    email            auto                  none  \n",
      "177                    email            dark                  none  \n",
      "178                    email            dark                  none  \n",
      "179                   pigeon           light         mentions_only  \n",
      "180                     call           light                  none  \n",
      "\n",
      "[181 rows x 8 columns]\n"
     ]
    }
   ],
   "source": [
    "join_preferences_query = \"\"\"\n",
    "SELECT h.*, u.communication_preference, u.interface_theme, u.notification_settings\n",
    "FROM high_value_active_user_txns h\n",
    "LEFT JOIN user_preferences u\n",
    "ON h.user_id = u.user_id\n",
    "\"\"\"\n",
    "\n",
    "# Execute the query\n",
    "high_value_users_with_preferences = ps.sqldf(join_preferences_query, locals())\n",
    "\n",
    "# Display the result\n",
    "print(\"High-Value Active Users with Preferences:\")\n",
    "print(high_value_users_with_preferences)"
   ]
  },
  {
   "cell_type": "markdown",
   "metadata": {},
   "source": [
    "Prompt:\n",
    "\n",
    "Loves it. As an expert data analyst, what charts would you recommend to visualize platform, communication, interface, and notification setting preferences amongst theses users? When providing code, please do not include \"palette\" as it generates a future warning error."
   ]
  },
  {
   "cell_type": "markdown",
   "metadata": {},
   "source": [
    "Generated response: \n",
    "\n",
    "Glad you're vibing with it! 😎 Since you’re analyzing high-value, active users, visualizing how they interact with your product across different preference dimensions will reveal actionable patterns.\n",
    "\n",
    "Here’s an expert breakdown of the best chart types for each category:\n",
    "\n",
    "1. Platform Preferences (from platform column)\n",
    "📊 Recommended Chart:\n",
    "Bar Chart (or Pie Chart, if few platform types)\n",
    "X-axis: Platform (e.g., Web, Mobile)\n",
    "Y-axis: Count of users or transactions\n",
    "Goal: Show where top users transact the most.\n",
    "\n",
    "2. Communication Preferences\n",
    "📊 Recommended Chart:\n",
    "Pie Chart or Bar Chart\n",
    "Visualizes distribution of preferred communication channels.\n",
    "Helps target users more effectively in campaigns.\n",
    "\n",
    "3. Interface Theme\n",
    "📊 Recommended Chart:\n",
    "Bar Chart\n",
    "Shows which UI themes (light, dark, etc.) are popular among power users.\n",
    "Useful for design & UX teams.\n",
    "\n",
    "4. Notification Settings\n",
    "📊 Recommended Chart:\n",
    "Stacked Bar Chart or Grouped Bar Chart (if settings are categorical like \"on/off\", \"daily/weekly\", etc.)\n",
    "Helps identify how engaged users are with notifications."
   ]
  },
  {
   "cell_type": "code",
   "execution_count": 43,
   "metadata": {},
   "outputs": [
    {
     "data": {
      "image/png": "[encoded data removed]",
      "text/plain": [
       "<Figure size 640x480 with 1 Axes>"
      ]
     },
     "metadata": {},
     "output_type": "display_data"
    },
    {
     "data": {
      "image/png": "[encoded data removed]",
      "text/plain": [
       "<Figure size 640x480 with 1 Axes>"
      ]
     },
     "metadata": {},
     "output_type": "display_data"
    },
    {
     "data": {
      "image/png": "[encoded data removed]",
      "text/plain": [
       "<Figure size 640x480 with 1 Axes>"
      ]
     },
     "metadata": {},
     "output_type": "display_data"
    },
    {
     "data": {
      "image/png": "[encoded data removed]",
      "text/plain": [
       "<Figure size 640x480 with 1 Axes>"
      ]
     },
     "metadata": {},
     "output_type": "display_data"
    }
   ],
   "source": [
    "#Generated code\n",
    "\n",
    "import seaborn as sns\n",
    "import matplotlib.pyplot as plt\n",
    "\n",
    "#Platform Preferences (bar chart)\n",
    "sns.countplot(x='platform', data=high_value_users_with_preferences, color='skyblue')\n",
    "plt.title('Preferred Platform of High-Value Users')\n",
    "plt.xlabel('Platform')\n",
    "plt.ylabel('Number of Transactions')\n",
    "plt.show()\n",
    "\n",
    "#Communication Preferences (pie chart)\n",
    "comm_counts = high_value_users_with_preferences['communication_preference'].value_counts()\n",
    "comm_counts.plot(kind='pie', autopct='%1.1f%%', startangle=90, colors=plt.cm.Paired.colors)\n",
    "plt.title('Communication Preference of High-Value Users')\n",
    "plt.ylabel('')\n",
    "plt.show()\n",
    "\n",
    "#Interface Theme Preferences (bar chart)\n",
    "sns.countplot(x='interface_theme', data=high_value_users_with_preferences, color='salmon')\n",
    "plt.title('Interface Theme Preference')\n",
    "plt.xlabel('Theme')\n",
    "plt.ylabel('Number of Users')\n",
    "plt.show()\n",
    "\n",
    "#Notification Settings Preferences (bar chart)\n",
    "sns.countplot(x='notification_settings', data=high_value_users_with_preferences, color='lightgreen')\n",
    "plt.title('Notification Settings Preference')\n",
    "plt.xlabel('Setting')\n",
    "plt.ylabel('Number of Users')\n",
    "plt.show()"
   ]
  },
  {
   "cell_type": "markdown",
   "metadata": {},
   "source": [
    "Dicussion Points:\n",
    "\n",
    "1. How were percentile calculations handled?\n",
    "This was interesting as I hadn't used the quantile() function before, but I really appreciated the explanation of how it's used and why other methods I would've thought to use wouldn't have worked. I was hesitant to use any functions I hadn't previously worked with, however, this function pretty straightforward and certainly easier to understand than a lot of other concepts that are loosely thrown at us in this course (lol). \n",
    "\n",
    "2. What approaches to date filtering were used?\n",
    "For date filtering, we used SQL queries with a dynamic cutoff date and then subtracted 30 from it. The biggested issue I had here was figuring out that my randomly generated date parameters weren't capturing any dates in the last 30 days. So while the filter was in theory working correctly, I didn't have any data available for it to pull from. \n",
    "\n",
    "3. How was the query optimized, CTE, subquery etc…?\n",
    "The phrasing of this question makes me think this was all supposed to be written as one query which would explain why this lab has taken me so long! I didn't use any subqueries, though in hindsight, that definitely could've implemented. We still used multiple joins and WHERE clauses to get the information needed. "
   ]
  }
 ],
 "metadata": {
  "kernelspec": {
   "display_name": "base",
   "language": "python",
   "name": "python3"
  },
  "language_info": {
   "codemirror_mode": {
    "name": "ipython",
    "version": 3
   },
   "file_extension": ".py",
   "mimetype": "text/x-python",
   "name": "python",
   "nbconvert_exporter": "python",
   "pygments_lexer": "ipython3",
   "version": "3.12.7"
  }
 },
 "nbformat": 4,
 "nbformat_minor": 2
}
